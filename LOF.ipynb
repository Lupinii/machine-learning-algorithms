{
 "cells": [
  {
   "cell_type": "markdown",
   "id": "120be5b0-0abe-46f3-a4d3-d9b3941e0e7b",
   "metadata": {},
   "source": [
    "## Local Outlier Factor (LOF) algorithm for outlier detection when the dataset size and the number of outliers are unknown."
   ]
  },
  {
   "cell_type": "markdown",
   "id": "e76739a5-642c-462b-9d68-4af843554cb1",
   "metadata": {},
   "source": [
    " LOF is a density-based method that compares the local density of a point to the local densities of its neighbors. Points with a significantly lower density than their neighbors are considered outliers.\n",
    " \n",
    " Steps:\n",
    "1. Generate a dataset (we'll create one with inliers and outliers, but without knowing the exact proportion).\n",
    "\n",
    "2. Use LocalOutlierFactor with the 'novelty' set to False (for outlier detection without needing a training set) or use the default (which is for outlier detection).\n",
    "    Note: By default, LOF in scikit-learn is used as an unsupervised outlier detector and returns negative_outlier_factor_ which we can use to score the outliers.\n",
    "\n",
    "3. Determine a threshold for the negative outlier factor to classify outliers. We can use:\n",
    "    - A fixed threshold (e.g., -1.5 or -2) but that might not be robust.\n",
    "    - Percentile of the scores (e.g., the bottom 5%).\n",
    "    - Visual inspection of the scores to set a threshold.\n",
    " However, since we don't know the proportion of outliers, we can:\n",
    "    a) Use the LOF scores and look for a natural break (elbow) in the sorted scores.\n",
    "    b) Use the IQR method on the negative outlier factors (but note: the scores are negative, so we are looking for very negative values).\n",
    "\n",
    "4. Plot the results.\n"
   ]
  },
  {
   "cell_type": "markdown",
   "id": "64385595-c2ac-4c25-a8bf-ebb4ff13cda3",
   "metadata": {},
   "source": [
    "<h3 style='color:black;'>Implementation</h3>"
   ]
  },
  {
   "cell_type": "markdown",
   "id": "20a80c56-4e54-4822-a19f-804fab1d0cae",
   "metadata": {},
   "source": [
    "We'll generate a dataset with 95 inliers from a normal distribution and 5 outliers from a uniform distribution (as before, but without knowing that there are 5% outliers).\n",
    "\n",
    " Implementation:\n",
    " \n",
    "Step 1: Data Generation\n",
    " \n",
    "Step 2: Fit LOF and get the negative outlier factors.\n",
    " \n",
    "Step 3: Set a threshold. We can use the IQR method on the negative outlier factors? But note: the more negative the score, the more outlier the point.\n",
    " \n",
    "Alternatively, we can use the `contamination` parameter in LOF to specify the expected proportion. But if we don't know, we can avoid setting it and instead use the scores to set a threshold.\n",
    " However, the LOF class in scikit-learn does not set a threshold by default. We get the scores (negative_outlier_factor_) and we can set a threshold based on:\n",
    " \n",
    "   threshold = np.percentile(scores, 100 * (proportion))   # if we set proportion to 5%, then 5th percentile.\n",
    "   \n",
    "But without knowing the proportion, we can:\n",
    "   - Plot the scores and look for an elbow.\n",
    "   - Use the IQR method: \n",
    "        Q1 = np.percentile(scores, 25)\n",
    "        Q3 = np.percentile(scores, 75)\n",
    "        IQR = Q3 - Q1\n",
    "        lower_bound = Q1 - 1.5 * IQR   # for the negative scores, we are interested in the lower tail.\n",
    "     \n",
    "Since the scores are negative, and outliers are the ones with the smallest (most negative) scores, we can set:\n",
    "        outlier_mask = scores < (Q1 - 1.5 * IQR)\n",
    "     \n",
    "Step 4: Plot.\n",
    "\n",
    "Alternatively, we can use the `LocalOutlierFactor` with `contamination='auto'` (default) which sets the threshold so that a certain percentage (10% by default) are outliers. But that might not be accurate.\n",
    " \n",
    "Let me note: The default contamination in LOF is 'auto', which means 10%. But we can change that if we have a better estimate."
   ]
  },
  {
   "cell_type": "markdown",
   "id": "234f7e05-d27a-4246-ae9c-efaa13c34e40",
   "metadata": {},
   "source": [
    "<h3 style='color:black;'>Detecting Outliers with Local Outlier Factor (LOF) for Unknown Datasets</h3>"
   ]
  },
  {
   "cell_type": "markdown",
   "id": "df8469dd-045b-4073-afe7-0b9c258ccd0d",
   "metadata": {},
   "source": [
    "When dealing with datasets of unknown size and unknown outlier proportion, Local Outlier Factor (LOF) is a powerful density-based method. Unlike Isolation Forest, LOF doesn't require specifying contamination upfront. Here's how to approach it:"
   ]
  },
  {
   "cell_type": "markdown",
   "id": "b1ab9432-3338-4218-b640-f3c239472e72",
   "metadata": {},
   "source": [
    "<h3 style='color:black;'>Key Concept: Local Density Deviation</h3>"
   ]
  },
  {
   "cell_type": "markdown",
   "id": "1b203bc2-8e3c-4d1f-8783-894c656ef723",
   "metadata": {},
   "source": [
    "LOF compares the local density of a point to its neighbors:\n",
    "\n",
    "- LOF ≈ 1: Similar density to neighbors (inlier)\n",
    "\n",
    "- LOF > 1: Lower density than neighbors (outlier)\n",
    "\n",
    "- LOF < 1: Higher density than neighbors (core point)\n",
    "\n",
    "No prior knowledge of outlier count needed!"
   ]
  },
  {
   "cell_type": "markdown",
   "id": "08e04779-5ef2-4217-a28f-f036bc9a24ce",
   "metadata": {},
   "source": [
    "<h3 style='color:black;'>Step-by-Step Methodology</h3>"
   ]
  },
  {
   "cell_type": "markdown",
   "id": "664f570b-ffeb-4f40-b05f-8ab3ccb425ab",
   "metadata": {},
   "source": [
    "<h3 style='color:black;'>1. Compute LOF Scores</h3>"
   ]
  },
  {
   "cell_type": "markdown",
   "id": "1bdb7870-85d5-4ef4-bbe2-cedea358fb7b",
   "metadata": {},
   "source": [
    "- Use LocalOutlierFactor with automatic neighbor selection\n",
    "\n",
    "- Extract negative outlier factors (lower = more outlier-like)"
   ]
  },
  {
   "cell_type": "markdown",
   "id": "1475bac3-fdc5-40a0-96eb-0534b511f5f6",
   "metadata": {},
   "source": [
    "<h3 style='color:black;'>2. Dynamic Thresholding</h3>"
   ]
  },
  {
   "cell_type": "markdown",
   "id": "5af7628b-0d55-473b-8abf-54c1037dc3a6",
   "metadata": {},
   "source": [
    "- Method 1: Percentile-based (e.g., flag top 5% as outliers)\n",
    "\n",
    "- Method 2: Statistical cutoff (IQR rule)\n",
    "\n",
    "- Method 3: Knee-point detection (optimal for unknown distributions)"
   ]
  },
  {
   "cell_type": "markdown",
   "id": "550bd5e4-630e-4bd3-84d9-a6163be3c2a1",
   "metadata": {},
   "source": [
    "<h3 style='color:black;'>3. Visual Validation</h3>"
   ]
  },
  {
   "cell_type": "markdown",
   "id": "51291bf5-2760-44dd-a982-621e33814382",
   "metadata": {},
   "source": [
    "- Plot LOF score distribution\n",
    "\n",
    "- Visualize spatial outlier distribution"
   ]
  },
  {
   "cell_type": "markdown",
   "id": "83e0ca74-474b-4f05-93c3-45d76d243617",
   "metadata": {},
   "source": [
    "<h3 style='color:black;'>Complete Implementation with Knee-Point Detection</h3>"
   ]
  },
  {
   "cell_type": "code",
   "execution_count": 1,
   "id": "4399a3b2-da4c-4f54-814c-5f08ff1a9351",
   "metadata": {},
   "outputs": [
    {
     "ename": "ModuleNotFoundError",
     "evalue": "No module named 'kneed'",
     "output_type": "error",
     "traceback": [
      "\u001b[31m---------------------------------------------------------------------------\u001b[39m",
      "\u001b[31mModuleNotFoundError\u001b[39m                       Traceback (most recent call last)",
      "\u001b[36mCell\u001b[39m\u001b[36m \u001b[39m\u001b[32mIn[1]\u001b[39m\u001b[32m, line 4\u001b[39m\n\u001b[32m      2\u001b[39m \u001b[38;5;28;01mimport\u001b[39;00m\u001b[38;5;250m \u001b[39m\u001b[34;01mmatplotlib\u001b[39;00m\u001b[34;01m.\u001b[39;00m\u001b[34;01mpyplot\u001b[39;00m\u001b[38;5;250m \u001b[39m\u001b[38;5;28;01mas\u001b[39;00m\u001b[38;5;250m \u001b[39m\u001b[34;01mplt\u001b[39;00m\n\u001b[32m      3\u001b[39m \u001b[38;5;28;01mfrom\u001b[39;00m\u001b[38;5;250m \u001b[39m\u001b[34;01msklearn\u001b[39;00m\u001b[34;01m.\u001b[39;00m\u001b[34;01mneighbors\u001b[39;00m\u001b[38;5;250m \u001b[39m\u001b[38;5;28;01mimport\u001b[39;00m LocalOutlierFactor\n\u001b[32m----> \u001b[39m\u001b[32m4\u001b[39m \u001b[38;5;28;01mfrom\u001b[39;00m\u001b[38;5;250m \u001b[39m\u001b[34;01mkneed\u001b[39;00m\u001b[38;5;250m \u001b[39m\u001b[38;5;28;01mimport\u001b[39;00m KneeLocator\n",
      "\u001b[31mModuleNotFoundError\u001b[39m: No module named 'kneed'"
     ]
    }
   ],
   "source": [
    "import numpy as np\n",
    "import matplotlib.pyplot as plt\n",
    "from sklearn.neighbors import LocalOutlierFactor\n",
    "from kneed import KneeLocator  # For automatic threshold detection"
   ]
  },
  {
   "cell_type": "code",
   "execution_count": 2,
   "id": "7953783a-6c0f-4ffb-b176-166de428541c",
   "metadata": {},
   "outputs": [],
   "source": [
    "# Generate dataset with unknown outlier ratio\n",
    "np.random.seed(42)\n",
    "inliers = 0.7 * np.random.randn(300, 2)  # Core cluster\n",
    "cluster = 0.3 * np.random.randn(100, 2) + [3, 3]  # Secondary cluster\n",
    "outliers = np.random.uniform(-4, 8, (20, 2))  # Unknown outlier count\n",
    "X = np.vstack([inliers, cluster, outliers])"
   ]
  },
  {
   "cell_type": "code",
   "execution_count": 3,
   "id": "6e2a9088-e1f9-44fd-a3b1-5b7105e2aa5a",
   "metadata": {},
   "outputs": [],
   "source": [
    "# 1. Compute LOF scores (auto neighbor selection)\n",
    "lof = LocalOutlierFactor(n_neighbors=20, novelty=False)\n",
    "lof.fit(X)\n",
    "scores = -lof.negative_outlier_factor_  # Higher = more anomalous"
   ]
  },
  {
   "cell_type": "code",
   "execution_count": 4,
   "id": "a152a923-fdab-4187-94e0-82e0c271461e",
   "metadata": {},
   "outputs": [
    {
     "ename": "NameError",
     "evalue": "name 'KneeLocator' is not defined",
     "output_type": "error",
     "traceback": [
      "\u001b[31m---------------------------------------------------------------------------\u001b[39m",
      "\u001b[31mNameError\u001b[39m                                 Traceback (most recent call last)",
      "\u001b[36mCell\u001b[39m\u001b[36m \u001b[39m\u001b[32mIn[4]\u001b[39m\u001b[32m, line 3\u001b[39m\n\u001b[32m      1\u001b[39m \u001b[38;5;66;03m# 2. Automatic threshold detection using knee-point\u001b[39;00m\n\u001b[32m      2\u001b[39m sorted_scores = np.sort(scores)[::-\u001b[32m1\u001b[39m]  \u001b[38;5;66;03m# Descending order\u001b[39;00m\n\u001b[32m----> \u001b[39m\u001b[32m3\u001b[39m knee = KneeLocator(\n\u001b[32m      4\u001b[39m     \u001b[38;5;28mrange\u001b[39m(\u001b[38;5;28mlen\u001b[39m(sorted_scores)), \n\u001b[32m      5\u001b[39m     sorted_scores,\n\u001b[32m      6\u001b[39m     curve=\u001b[33m\"\u001b[39m\u001b[33mconvex\u001b[39m\u001b[33m\"\u001b[39m,\n\u001b[32m      7\u001b[39m     direction=\u001b[33m\"\u001b[39m\u001b[33mdecreasing\u001b[39m\u001b[33m\"\u001b[39m\n\u001b[32m      8\u001b[39m )\n\u001b[32m      9\u001b[39m threshold = sorted_scores[knee.knee] \u001b[38;5;28;01mif\u001b[39;00m knee.knee \u001b[38;5;28;01melse\u001b[39;00m np.percentile(scores, \u001b[32m95\u001b[39m)\n",
      "\u001b[31mNameError\u001b[39m: name 'KneeLocator' is not defined"
     ]
    }
   ],
   "source": [
    "# 2. Automatic threshold detection using knee-point\n",
    "sorted_scores = np.sort(scores)[::-1]  # Descending order\n",
    "knee = KneeLocator(\n",
    "    range(len(sorted_scores)), \n",
    "    sorted_scores,\n",
    "    curve=\"convex\",\n",
    "    direction=\"decreasing\"\n",
    ")\n",
    "threshold = sorted_scores[knee.knee] if knee.knee else np.percentile(scores, 95)"
   ]
  },
  {
   "cell_type": "code",
   "execution_count": 5,
   "id": "8deaba8d-49cb-4d0b-a9b1-febc52b238a0",
   "metadata": {},
   "outputs": [
    {
     "ename": "NameError",
     "evalue": "name 'threshold' is not defined",
     "output_type": "error",
     "traceback": [
      "\u001b[31m---------------------------------------------------------------------------\u001b[39m",
      "\u001b[31mNameError\u001b[39m                                 Traceback (most recent call last)",
      "\u001b[36mCell\u001b[39m\u001b[36m \u001b[39m\u001b[32mIn[5]\u001b[39m\u001b[32m, line 2\u001b[39m\n\u001b[32m      1\u001b[39m \u001b[38;5;66;03m# 3. Identify outliers\u001b[39;00m\n\u001b[32m----> \u001b[39m\u001b[32m2\u001b[39m outlier_mask = scores > threshold\n",
      "\u001b[31mNameError\u001b[39m: name 'threshold' is not defined"
     ]
    }
   ],
   "source": [
    "# 3. Identify outliers\n",
    "outlier_mask = scores > threshold"
   ]
  },
  {
   "cell_type": "code",
   "execution_count": null,
   "id": "2f79b6bd-a75e-4ad7-9e86-3c001adeb1c3",
   "metadata": {},
   "outputs": [],
   "source": [
    "# 4. Visualize results\n",
    "plt.figure(figsize=(15, 5))"
   ]
  },
  {
   "cell_type": "code",
   "execution_count": null,
   "id": "5af6427d-17ee-474b-93cb-291c28e858a4",
   "metadata": {},
   "outputs": [],
   "source": [
    "# Score distribution\n",
    "plt.subplot(131)\n",
    "plt.hist(scores, bins=50, alpha=0.7, color=\"skyblue\")\n",
    "plt.axvline(threshold, color=\"red\", linestyle=\"--\", \n",
    "            label=f'Threshold: {threshold:.2f}')\n",
    "plt.title(\"LOF Score Distribution\")\n",
    "plt.xlabel(\"LOF Score\")\n",
    "plt.ylabel(\"Frequency\")\n",
    "plt.legend()"
   ]
  },
  {
   "cell_type": "code",
   "execution_count": null,
   "id": "5db7dd7f-1fdf-4db7-81cd-62786f6a8b05",
   "metadata": {},
   "outputs": [],
   "source": [
    "# Sorted scores with knee-point\n",
    "plt.subplot(132)\n",
    "plt.plot(sorted_scores, 'b-', label=\"LOF Scores\")\n",
    "plt.axvline(knee.knee, color=\"red\", linestyle=\"--\", \n",
    "            label=f'Knee Point (n={knee.knee})')\n",
    "plt.xlabel(\"Points (sorted by score)\")\n",
    "plt.ylabel(\"LOF Score\")\n",
    "plt.title(\"Knee-Point Detection\")\n",
    "plt.legend()\n",
    "plt.grid(True)"
   ]
  },
  {
   "cell_type": "code",
   "execution_count": null,
   "id": "43b2d970-25b4-4e6d-ae7d-ac68422a59a7",
   "metadata": {},
   "outputs": [],
   "source": [
    "# Spatial distribution\n",
    "plt.subplot(133)\n",
    "plt.scatter(X[~outlier_mask, 0], X[~outlier_mask, 1], \n",
    "            c='blue', alpha=0.5, label=\"Inliers\")\n",
    "plt.scatter(X[outlier_mask, 0], X[outlier_mask, 1], \n",
    "            c='red', s=60, edgecolor='k', label=\"Outliers\")\n",
    "plt.title(\"Spatial Outlier Distribution\")\n",
    "plt.xlabel(\"Feature 1\")\n",
    "plt.ylabel(\"Feature 2\")\n",
    "plt.legend()\n",
    "\n",
    "plt.tight_layout()\n",
    "plt.show()\n",
    "\n",
    "print(f\"Detected outliers: {outlier_mask.sum()} ({outlier_mask.sum()/len(X):.1%})\")"
   ]
  },
  {
   "cell_type": "markdown",
   "id": "ce1a6c42-7307-436e-8c06-e0f8fad52652",
   "metadata": {},
   "source": [
    "<h3 style='color:black;'>Key Components Explained</h3>"
   ]
  },
  {
   "cell_type": "markdown",
   "id": "a26253a5-e0fb-4f5a-bee0-0a2850364179",
   "metadata": {},
   "source": [
    "<h3 style='color:black;'>1. Neighbor Selection (n_neighbors=20)</h3>"
   ]
  },
  {
   "cell_type": "markdown",
   "id": "dd115364-8784-422a-bce9-b24ed5c4dc32",
   "metadata": {},
   "source": [
    "- Start with default min(20, n_samples-1)\n",
    "\n",
    "- Critical parameter: Controls locality scale\n",
    "\n",
    "- Tuning Tip: Use larger values for clustered data, smaller for scattered outliers"
   ]
  },
  {
   "cell_type": "markdown",
   "id": "b44ef9a9-2dee-49a2-8d1f-5e0d8707db1e",
   "metadata": {},
   "source": [
    "<h3 style='color:black;'>2. Knee-Point Detection</h3>"
   ]
  },
  {
   "cell_type": "markdown",
   "id": "c949c99b-a34d-4109-8946-03da7da512cc",
   "metadata": {},
   "source": [
    "- Automatically finds the \"elbow\" in sorted LOF scores\n",
    "\n",
    "- Uses kneed package for optimal cutoff identification\n",
    "\n",
    "- Robust to unknown outlier proportions"
   ]
  },
  {
   "cell_type": "markdown",
   "id": "5636dc9d-0786-4544-a888-c8540e59e10f",
   "metadata": {},
   "source": [
    "<h3 style='color:black;'>3. Alternative Thresholding Methods</h3>"
   ]
  },
  {
   "cell_type": "code",
   "execution_count": null,
   "id": "644de311-caba-4a43-a42f-fd83d1f6e3ff",
   "metadata": {},
   "outputs": [],
   "source": [
    "# Method 1: Fixed percentile (conservative)\n",
    "threshold = np.percentile(scores, 95)  # Flag top 5%\n",
    "\n",
    "# Method 2: IQR rule (robust to skewness)\n",
    "Q1, Q3 = np.percentile(scores, [25, 75])\n",
    "threshold = Q3 + 1.5 * (Q3 - Q1)"
   ]
  },
  {
   "cell_type": "markdown",
   "id": "944e28ad-8c84-4600-8381-2f17830a387c",
   "metadata": {},
   "source": [
    "<h3 style='color:black;'>Interpreting Results</h3>"
   ]
  },
  {
   "cell_type": "markdown",
   "id": "21072cbd-0acf-4700-b719-d9048404e326",
   "metadata": {},
   "source": [
    "<h3 style='color:black;'>1. LOF Score Distribution (Left Plot)</h3>"
   ]
  },
  {
   "cell_type": "markdown",
   "id": "9c6a6a64-e040-4d6c-ae8a-10eda64ca099",
   "metadata": {},
   "source": [
    "- Shows score histogram with automatic threshold\n",
    "\n",
    "- Expect right-skewed distribution with outlier \"tail\""
   ]
  },
  {
   "cell_type": "markdown",
   "id": "4a04820b-c456-4703-bf90-0cbfa95346b1",
   "metadata": {},
   "source": [
    "<h3 style='color:black;'>2. Knee-Point Plot (Middle)</h3>"
   ]
  },
  {
   "cell_type": "markdown",
   "id": "e7472b3c-29f4-4498-9dec-0f4587fdde02",
   "metadata": {},
   "source": [
    "- Red line indicates optimal cutoff point\n",
    "\n",
    "- Points left of line are flagged as outliers"
   ]
  },
  {
   "cell_type": "markdown",
   "id": "e762cb4c-14e5-49b4-a841-a605e4519f7b",
   "metadata": {},
   "source": [
    "<h3 style='color:black;'>3. Spatial Plot (Right)</h3>"
   ]
  },
  {
   "cell_type": "markdown",
   "id": "6b892db8-f41a-40f5-8673-190b3a111519",
   "metadata": {},
   "source": [
    "- Visual confirmation of outlier detection\n",
    "\n",
    "- Colors show inliers (blue) vs. outliers (red)"
   ]
  },
  {
   "cell_type": "markdown",
   "id": "bfc3cfa7-40b9-402c-b424-4394e3a1152e",
   "metadata": {},
   "source": [
    "<h3 style='color:black;'>Practical Recommendations</h3>"
   ]
  },
  {
   "cell_type": "markdown",
   "id": "58c20864-c136-49b2-a872-25bd142bfe58",
   "metadata": {},
   "source": [
    "<h3 style='color:black;'>1. Neighbor Tuning:</h3>"
   ]
  },
  {
   "cell_type": "code",
   "execution_count": null,
   "id": "3f63e4e1-774b-4225-b27a-681f847d66a5",
   "metadata": {},
   "outputs": [],
   "source": [
    "# Auto-tune n_neighbors using score stability\n",
    "for k in [5, 10, 20, 30, 40]:\n",
    "    lof = LocalOutlierFactor(n_neighbors=k)\n",
    "    scores = -lof.fit(X).negative_outlier_factor_\n",
    "    # Check score distribution stability"
   ]
  },
  {
   "cell_type": "markdown",
   "id": "04f60ffc-e112-471a-b996-4bdb4ee5789a",
   "metadata": {},
   "source": [
    "<h3 style='color:black;'>2. Validation:</h3>"
   ]
  },
  {
   "cell_type": "markdown",
   "id": "98e2fcaf-3aa1-4cd9-a04e-06fd13cccd07",
   "metadata": {},
   "source": [
    "- Combine with DBSCAN: db = DBSCAN(eps=0.3).fit(X)\n",
    "\n",
    "- Consensus outliers = Points flagged by both LOF and DBSCAN"
   ]
  },
  {
   "cell_type": "markdown",
   "id": "f7ae7a4a-9aa0-4c4d-aff5-4e98f32e8347",
   "metadata": {},
   "source": [
    "<h3 style='color:black;'>3. Scalability:</h3>"
   ]
  },
  {
   "cell_type": "markdown",
   "id": "92b8a947-9a29-4c24-84ae-876a5492f59f",
   "metadata": {},
   "source": [
    "- For large datasets (>10k points), use n_neighbors=50 and subsampling"
   ]
  },
  {
   "cell_type": "code",
   "execution_count": null,
   "id": "a561cb90-bf71-477e-9579-feea9d096c87",
   "metadata": {},
   "outputs": [],
   "source": []
  },
  {
   "cell_type": "markdown",
   "id": "4b1c4762-b4df-4431-bc13-d63e0d850a2a",
   "metadata": {},
   "source": [
    "LOF excels at detecting local density anomalies without prior knowledge of outlier characteristics, making it ideal for exploratory analysis of unknown datasets.\n",
    "\n"
   ]
  }
 ],
 "metadata": {
  "kernelspec": {
   "display_name": "Python 3 (ipykernel)",
   "language": "python",
   "name": "python3"
  },
  "language_info": {
   "codemirror_mode": {
    "name": "ipython",
    "version": 3
   },
   "file_extension": ".py",
   "mimetype": "text/x-python",
   "name": "python",
   "nbconvert_exporter": "python",
   "pygments_lexer": "ipython3",
   "version": "3.13.2"
  }
 },
 "nbformat": 4,
 "nbformat_minor": 5
}
