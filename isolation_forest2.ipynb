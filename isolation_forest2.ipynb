{
 "cells": [
  {
   "cell_type": "markdown",
   "id": "77d64d73-bbf2-4541-aff6-5738468a7ad2",
   "metadata": {},
   "source": [
    " # dataset of unknown size, unknown outliers "
   ]
  },
  {
   "cell_type": "markdown",
   "id": "1037e9cd-c5c2-4cb0-9b68-031dfbb5bd43",
   "metadata": {},
   "source": [
    " The challenge is to detect outliers without prior knowledge of the contamination rate.\n",
    " Steps:\n",
    " 1. We can still use Isolation Forest because it is efficient and works well without labels.\n",
    " 2. However, we don't set `contamination` to a fixed value. Instead, we can:\n",
    "    a. Use the default 'auto' (which is 0.1) and then adjust based on the problem.\n",
    "    b. Analyze the anomaly scores to set a threshold (e.g., by percentiles or by inspecting the distribution of scores).\n",
    " Approach:\n",
    " - Fit the Isolation Forest without specifying `contamination` (so it uses 'auto' by default) and obtain the anomaly scores.\n",
    " - The anomaly scores are in the range [-1, 1], where:\n",
    "      - Scores close to -1 indicate outliers.\n",
    "      - Scores close to 1 indicate inliers.\n",
    "We can then decide on a threshold. One common way is to set the threshold such that a certain percentage (e.g., 2%, 5%) of the data is considered as outliers.\n",
    "   \n",
    "But without prior knowledge, we can look at the distribution of scores and look for a natural break (e.g., using a histogram or the interquartile range).\n",
    "   \n",
    "Alternatively, we can use the `contamination='auto'` and then validate the outliers if we have domain knowledge or by using other methods.\n",
    " However, note that the `contamination` parameter in Isolation Forest is used to set the threshold on the scores. Specifically, the threshold is set so that the proportion of outliers is equal to `contamination`."
   ]
  },
  {
   "cell_type": "markdown",
   "id": "969faf7b-9043-44bc-82b1-29749ad65342",
   "metadata": {},
   "source": [
    "<h3 style='color:black;'>How to determine the contamination rate when unknown?</h3>"
   ]
  },
  {
   "cell_type": "markdown",
   "id": "08a21391-721b-4932-b90e-74626a378641",
   "metadata": {},
   "source": [
    "- One approach is to use the \"elbow method\" on the sorted anomaly scores. We can look for a point where the scores drop significantly (like in the scree plot of PCA).\n",
    "  \n",
    "- Another approach is to use the mean anomaly score plus 2 or 3 standard deviations as the threshold (if we assume the scores are normally distributed, which they might not be).\n",
    "\n",
    "- But a more robust method is to use the percentile of the scores. For example, we might flag the 5% of points with the lowest scores (most negative) as outliers.\n",
    " However, without any prior, we might start by setting the threshold at the 5th percentile (or 95th percentile if we consider the absolute value) and then adjust."
   ]
  },
  {
   "cell_type": "markdown",
   "id": "c66c694b-a9e5-410c-8dd6-e7705fe7a708",
   "metadata": {},
   "source": [
    "<h3 style='color:black;'>Key Strategy: Leverage Anomaly Scores</h3>"
   ]
  },
  {
   "cell_type": "markdown",
   "id": "22bbfe58-f5e4-4c2f-85e4-37c1ee35434f",
   "metadata": {},
   "source": [
    "Instead of relying on a fixed contamination parameter, we use the raw anomaly scores to identify outliers. Isolation Forest outputs scores where:\n",
    "\n",
    "- Lower scores → More likely outliers (negative values)\n",
    "\n",
    "- Higher scores → Inliers (positive values)\n",
    "\n",
    "We'll determine the threshold dynamically using statistical methods."
   ]
  },
  {
   "cell_type": "markdown",
   "id": "f1b01ace-9d49-47c3-a026-2a0f7e2be14a",
   "metadata": {},
   "source": [
    "<h3 style='color:black;'>Step-by-Step Approach</h3>"
   ]
  },
  {
   "cell_type": "markdown",
   "id": "6637eb5d-bdac-4d50-81ac-4d7803bafeb6",
   "metadata": {},
   "source": [
    "<h3 style='color:black;'>1. Train Isolation Forest with Default Settings</h3>"
   ]
  },
  {
   "cell_type": "code",
   "execution_count": null,
   "id": "57550272-2211-4656-9b09-afde365fc0a0",
   "metadata": {},
   "outputs": [],
   "source": [
    "model = IsolationForest(random_state=42)\n",
    "model.fit(X)  # No contamination parameter\n",
    "scores = model.decision_function(X)  # Get raw anomaly scores"
   ]
  },
  {
   "cell_type": "markdown",
   "id": "7fb063a8-4d8c-4325-a950-f5d7e48bd134",
   "metadata": {},
   "source": [
    "<h3 style='color:black;'>2. Determine Threshold Dynamically</h3>"
   ]
  },
  {
   "cell_type": "markdown",
   "id": "561f84b6-b776-43a8-a2d2-4f69f9cf77bc",
   "metadata": {},
   "source": [
    "Use one of these methods:\n",
    "\n",
    "- Percentile-Based: Flag lowest 1-5% as outliers"
   ]
  },
  {
   "cell_type": "code",
   "execution_count": null,
   "id": "98b3e361-f1c4-46f8-88d2-18b1b5ccaf6b",
   "metadata": {},
   "outputs": [],
   "source": [
    "threshold = np.percentile(scores, 2)  # Flag bottom 2%"
   ]
  },
  {
   "cell_type": "markdown",
   "id": "430f3a32-bceb-436e-91b1-491360e9235e",
   "metadata": {},
   "source": [
    "- IQR Rule: Robust for skewed distributions"
   ]
  },
  {
   "cell_type": "code",
   "execution_count": null,
   "id": "dc3dfff8-3050-48b5-b9b4-2cb1dcdb7352",
   "metadata": {},
   "outputs": [],
   "source": [
    "Q1 = np.percentile(scores, 25)\n",
    "Q3 = np.percentile(scores, 75)\n",
    "IQR = Q3 - Q1\n",
    "threshold = Q1 - 1.5 * IQR  # Classic outlier cutoff"
   ]
  },
  {
   "cell_type": "markdown",
   "id": "ed726612-4fca-4b9a-b5db-955f9a7532fc",
   "metadata": {},
   "source": [
    "- Visual Inspection: Plot score distribution"
   ]
  },
  {
   "cell_type": "markdown",
   "id": "70b72f42-1958-4f46-bce0-6430cafb6370",
   "metadata": {},
   "source": [
    "<h3 style='color:black;'>3. Validate with Clustering (Optional)</h3>"
   ]
  },
  {
   "cell_type": "code",
   "execution_count": null,
   "id": "dde1ee67-a870-4e47-8b69-350c0e48ff0d",
   "metadata": {},
   "outputs": [],
   "source": [
    "from sklearn.cluster import DBSCAN\n",
    "outliers_if = scores < threshold\n",
    "db = DBSCAN(eps=0.5).fit(X)\n",
    "outliers_db = db.labels_ == -1\n",
    "consensus = outliers_if & outliers_db  # Intersection"
   ]
  },
  {
   "cell_type": "markdown",
   "id": "4ef84ca2-69ee-4feb-b782-83e8832f3516",
   "metadata": {},
   "source": [
    "<h3 style='color:black;'>Full Implementation Example</h3>"
   ]
  },
  {
   "cell_type": "code",
   "execution_count": 1,
   "id": "a39ed34c-88f0-4d88-967c-85f830cc4849",
   "metadata": {},
   "outputs": [],
   "source": [
    "import numpy as np\n",
    "import matplotlib.pyplot as plt\n",
    "from sklearn.ensemble import IsolationForest"
   ]
  },
  {
   "cell_type": "code",
   "execution_count": 2,
   "id": "3ce5b928-a3c8-4cf3-8253-8d79bf130840",
   "metadata": {},
   "outputs": [],
   "source": [
    "# Generate dataset with unknown outlier ratio (5% outliers)\n",
    "np.random.seed(42)\n",
    "inliers = np.random.randn(950, 2)  # 95% inliers\n",
    "outliers = np.random.uniform(-10, 10, (50, 2))  # 5% outliers\n",
    "X = np.vstack([inliers, outliers])"
   ]
  },
  {
   "cell_type": "code",
   "execution_count": 3,
   "id": "05c1131d-d16f-46f6-840f-a3b79d529e6b",
   "metadata": {},
   "outputs": [],
   "source": [
    "# 1. Train Isolation Forest\n",
    "model = IsolationForest(random_state=42)\n",
    "model.fit(X)\n",
    "scores = model.decision_function(X)"
   ]
  },
  {
   "cell_type": "code",
   "execution_count": 4,
   "id": "2a12f9cf-8526-4847-bb34-b1e4e2be2aa5",
   "metadata": {},
   "outputs": [],
   "source": [
    "# 2. Determine threshold using IQR rule\n",
    "Q1 = np.percentile(scores, 25)\n",
    "Q3 = np.percentile(scores, 75)\n",
    "IQR = Q3 - Q1\n",
    "threshold = Q1 - 1.5 * IQR"
   ]
  },
  {
   "cell_type": "code",
   "execution_count": 5,
   "id": "15ac4155-d0e8-4593-882d-d9aa150597cd",
   "metadata": {},
   "outputs": [],
   "source": [
    "# Identify outliers\n",
    "outlier_mask = scores < threshold\n",
    "inlier_mask = ~outlier_mask"
   ]
  },
  {
   "cell_type": "code",
   "execution_count": 6,
   "id": "31edd207-0e83-4455-b11f-27f3234ec3b0",
   "metadata": {},
   "outputs": [
    {
     "data": {
      "text/plain": [
       "<Figure size 1200x500 with 0 Axes>"
      ]
     },
     "execution_count": 6,
     "metadata": {},
     "output_type": "execute_result"
    },
    {
     "data": {
      "text/plain": [
       "<Figure size 1200x500 with 0 Axes>"
      ]
     },
     "metadata": {},
     "output_type": "display_data"
    }
   ],
   "source": [
    "# 3. Plot results\n",
    "plt.figure(figsize=(12, 5))"
   ]
  },
  {
   "cell_type": "code",
   "execution_count": 7,
   "id": "b3376979-f674-49e3-b284-2346237d43a0",
   "metadata": {},
   "outputs": [
    {
     "data": {
      "text/plain": [
       "<matplotlib.legend.Legend at 0x2c6704d01a0>"
      ]
     },
     "execution_count": 7,
     "metadata": {},
     "output_type": "execute_result"
    },
    {
     "data": {
      "image/png": "[encoded data removed]",
      "text/plain": [
       "<Figure size 640x480 with 1 Axes>"
      ]
     },
     "metadata": {},
     "output_type": "display_data"
    }
   ],
   "source": [
    "# Score distribution\n",
    "plt.subplot(121)\n",
    "plt.hist(scores, bins=50, alpha=0.7, color=\"skyblue\")\n",
    "plt.axvline(threshold, color=\"red\", linestyle=\"--\", \n",
    "            label=f'Threshold: {threshold:.2f}')\n",
    "plt.title(\"Anomaly Score Distribution\")\n",
    "plt.xlabel(\"Anomaly Score\")\n",
    "plt.ylabel(\"Frequency\")\n",
    "plt.legend()"
   ]
  },
  {
   "cell_type": "code",
   "execution_count": 10,
   "id": "d291559c-0729-4bee-ab9d-708cbe58b7f9",
   "metadata": {},
   "outputs": [
    {
     "data": {
      "image/png": "[encoded data removed]",
      "text/plain": [
       "<Figure size 640x480 with 1 Axes>"
      ]
     },
     "metadata": {},
     "output_type": "display_data"
    },
    {
     "name": "stdout",
     "output_type": "stream",
     "text": [
      "Detected outliers: 70 (7.0%)\n"
     ]
    }
   ],
   "source": [
    "# Data space\n",
    "plt.subplot(122)\n",
    "plt.scatter(X[inlier_mask, 0], X[inlier_mask, 1], \n",
    "            color=\"blue\", alpha=0.5, label=\"Inliers\")\n",
    "plt.scatter(X[outlier_mask, 0], X[outlier_mask, 1], \n",
    "            color=\"red\", s=60, edgecolor='k', label=\"Outliers\")\n",
    "plt.title(\"Isolation Forest Outlier Detection\")\n",
    "plt.xlabel(\"Feature 1\")\n",
    "\n",
    "plt.ylabel(\"Feature 2\")\n",
    "plt.legend()\n",
    "plt.tight_layout()\n",
    "plt.show()\n",
    "\n",
    "print(f\"Detected outliers: {outlier_mask.sum()} ({outlier_mask.sum()/len(X):.1%})\")"
   ]
  },
  {
   "cell_type": "markdown",
   "id": "8f27471e-9442-4420-a906-c87ed6704f25",
   "metadata": {},
   "source": [
    "<h3 style='color:black;'>Interpretation Guide</h3>"
   ]
  },
  {
   "cell_type": "markdown",
   "id": "a48b2782-d221-4105-a311-b593ff0eb3c3",
   "metadata": {},
   "source": [
    "<h3 style='color:black;'>1. Score Distribution Plot (Left):</h3>"
   ]
  },
  {
   "cell_type": "markdown",
   "id": "edbe80fd-e124-40ce-9c9f-3b6a89f3757a",
   "metadata": {},
   "source": [
    "Look for left-skewed distribution\n",
    "\n",
    "The red dashed line shows the automatic threshold\n",
    "\n",
    "Points left of threshold are flagged as outliers"
   ]
  },
  {
   "cell_type": "markdown",
   "id": "b0b5cc5d-83f2-4ae8-9437-6c2afd666905",
   "metadata": {},
   "source": [
    "<h3 style='color:black;'>2. Scatter Plot (Right):</h3>"
   ]
  },
  {
   "cell_type": "markdown",
   "id": "1b85d889-1713-4f98-8f69-a7542663cbf8",
   "metadata": {},
   "source": [
    "Red points: Detected outliers\n",
    "\n",
    "Blue points: Inliers"
   ]
  },
  {
   "cell_type": "markdown",
   "id": "ae3f773a-4919-457d-8ec1-13ca927cc919",
   "metadata": {},
   "source": [
    "<h3 style='color:black;'>Validation:</h3>"
   ]
  },
  {
   "cell_type": "markdown",
   "id": "8d814759-92bb-4222-9aaa-1582394c2b5a",
   "metadata": {},
   "source": [
    "Compare outlier count with domain knowledge\n",
    "\n",
    "Adjust percentile/IQR multiplier if needed\n",
    "\n",
    "Use clustering for consensus (shown in optional step)"
   ]
  },
  {
   "cell_type": "markdown",
   "id": "408a4e1b-aae8-4d6e-9ecd-bb2db275e351",
   "metadata": {},
   "source": [
    "<h3 style='color:black;'>Key Advantages</h3>"
   ]
  },
  {
   "cell_type": "markdown",
   "id": "28bcd45a-370d-4750-98fb-4dd207ab8a68",
   "metadata": {},
   "source": [
    "- No prior knowledge needed about dataset size or outlier proportion\n",
    "\n",
    "- Adaptive thresholding handles skewed distributions\n",
    "\n",
    "- Visual diagnostics provide intuitive validation\n",
    "\n",
    "- Combined techniques (IQR + clustering) increase robustness\n",
    "\n",
    "This approach works effectively for real-world datasets where outlier characteristics are unknown. For critical applications, iterate between automatic detection and domain expert validation."
   ]
  }
 ],
 "metadata": {
  "kernelspec": {
   "display_name": "Python 3 (ipykernel)",
   "language": "python",
   "name": "python3"
  },
  "language_info": {
   "codemirror_mode": {
    "name": "ipython",
    "version": 3
   },
   "file_extension": ".py",
   "mimetype": "text/x-python",
   "name": "python",
   "nbconvert_exporter": "python",
   "pygments_lexer": "ipython3",
   "version": "3.13.2"
  }
 },
 "nbformat": 4,
 "nbformat_minor": 5
}
