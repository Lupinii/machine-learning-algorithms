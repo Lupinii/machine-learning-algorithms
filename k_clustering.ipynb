{
 "cells": [
  {
   "cell_type": "markdown",
   "id": "cbf88422-0ee5-4071-94b4-b279d02c63c1",
   "metadata": {},
   "source": [
    "<h3 style='color:green;'>K Means Clustering</h3>"
   ]
  },
  {
   "cell_type": "markdown",
   "id": "871721e2-40a5-488b-8a19-132b94f955df",
   "metadata": {},
   "source": [
    "Clustering - Process of dividing the dataset into groups consisting of similar data points.\n",
    "\n",
    "K-means clustering is a popular unsupervised machine learning algorithm used to partition a dataset into k clusters, where each data point belongs to the cluster with the nearest mean (centroid). It's a method of vector quantization, aiming to minimize the within-cluster sum of squares"
   ]
  },
  {
   "cell_type": "markdown",
   "id": "cc84a389-aa29-414a-86f2-ce1819ffedc1",
   "metadata": {},
   "source": [
    "<h3 style='color:black;'>Types of Clustering </h3>"
   ]
  },
  {
   "cell_type": "markdown",
   "id": "f56880b8-520a-4eae-b0f9-c767fb2783cb",
   "metadata": {},
   "source": [
    "<h3 style='color:black;'>1. Exclusive Clustering</h3>"
   ]
  },
  {
   "cell_type": "markdown",
   "id": "a55245c4-0269-42bb-9128-b81bd0621ad8",
   "metadata": {},
   "source": [
    "An item belongs exclusively to one cluster, not several.\n",
    "\n",
    "K - means does this sort of exclusive clustering."
   ]
  },
  {
   "cell_type": "markdown",
   "id": "2bbb89bc-a296-4f6a-b5f1-48c9e5dec395",
   "metadata": {},
   "source": [
    "<h3 style='color:black;'>2. Overlaping Clustering</h3>"
   ]
  },
  {
   "cell_type": "markdown",
   "id": "aa080377-3d17-429c-b842-e989e407bacc",
   "metadata": {},
   "source": [
    "An item can belong to multiple clusters.\n",
    "\n",
    "It's degree of association with each cluster is known.\n",
    "\n",
    "Fuzzy/ C-means does this sort of exclusive clustering."
   ]
  },
  {
   "cell_type": "markdown",
   "id": "b8e42ce0-31a0-48f0-b1e3-608e3a61c149",
   "metadata": {},
   "source": [
    "<h3 style='color:black;'>3. Hierarchical Clustering</h3>"
   ]
  },
  {
   "cell_type": "markdown",
   "id": "8c8ab038-96d3-49da-9874-80090dbf8407",
   "metadata": {},
   "source": [
    "When two clusters have a parent-child reltionship or a tree-lie structure then its Hierarchical clustering."
   ]
  },
  {
   "cell_type": "markdown",
   "id": "5fd1b196-c524-4823-8b7b-0eb989bb2483",
   "metadata": {},
   "source": [
    "<h3 style='color:black;'>Key Concepts</h3>"
   ]
  },
  {
   "cell_type": "markdown",
   "id": "3a2a3fda-4b5a-4406-a8e4-ccc24f5a1ba7",
   "metadata": {},
   "source": [
    "k:\n",
    "Represents the number of clusters you want to create. The user defines this value. \n",
    "\n",
    "Centroid:\n",
    "The mean position of all data points within a cluster. It acts as the center of the cluster.\n",
    "\n",
    "Distance Metric:\n",
    "Used to determine the distance between data points and centroids. Common metrics include Euclidean distance. \n",
    "\n",
    "Unsupervised Learning:\n",
    "K-means is an unsupervised learning algorithm because it doesn't require labeled data (predefined categories). "
   ]
  },
  {
   "cell_type": "markdown",
   "id": "a43b0f0f-c673-47a4-9100-77fe47149cf6",
   "metadata": {},
   "source": [
    "<h3 style='color:black;'>Steps Involved</h3>"
   ]
  },
  {
   "cell_type": "markdown",
   "id": "5e655065-ad2d-4f1a-a8c3-cae96f854d67",
   "metadata": {},
   "source": [
    "The algorithm aims to group similar data points together into clusters. \n",
    "\n",
    "It iteratively assigns data points to the nearest cluster centroid and then recalculates the centroid's position based on the assigned data points.\n",
    "\n",
    "This process continues until the cluster assignments no longer change significantly or a maximum number of iterations is reached"
   ]
  },
  {
   "cell_type": "markdown",
   "id": "cea7057e-f169-42c1-aa45-b54144c4bb31",
   "metadata": {},
   "source": [
    "How it works:\n",
    "1. Initialization:\n",
    "Randomly select k data points as initial cluster centroids or use a more sophisticated initialization method like k-means++. \n",
    "\n",
    "2. Assignment:\n",
    "For each data point, calculate its distance to all centroids and assign it to the cluster with the nearest centroid. \n",
    "\n",
    "3. Update:\n",
    "Recalculate the position of each centroid by computing the mean of all data points assigned to that cluster. \n",
    "\n",
    "4. Iteration:\n",
    "Repeat steps 2 and 3 until the cluster assignments no longer change or a maximum number of iterations is reached. "
   ]
  },
  {
   "cell_type": "markdown",
   "id": "cd07a4c6-81ee-4338-a0f0-432c70b29bf8",
   "metadata": {},
   "source": [
    "<h3 style='color:black;'>Choosing the optimum number of clusters: Elbow Method.</h3>"
   ]
  },
  {
   "cell_type": "markdown",
   "id": "08a4f590-af3e-442f-b41b-d1199915815c",
   "metadata": {},
   "source": [
    "Within sum of squares (WSS) is defined as the sum of the squared distance between each member of the cluster and its centroid"
   ]
  },
  {
   "cell_type": "markdown",
   "id": "e887d632-4b97-448d-8df5-1500d9eee954",
   "metadata": {},
   "source": [
    "<h3 style='color:black;'>Role of the K parameter</h3>"
   ]
  },
  {
   "cell_type": "markdown",
   "id": "3415fbd7-5481-4ed1-8106-a7ae14a3e2d5",
   "metadata": {},
   "source": [
    "1. It represents the maximum number of iterations allowed for the algorithm.\n",
    "\n",
    "2. It determines the number of clusters that the algorithm will partition the data into.\n",
    "\n",
    "3. It controls the rate of convergence for the algorithm.\n",
    "\n",
    "4. It sets the threshold for the minimum similarity required between data points."
   ]
  },
  {
   "cell_type": "markdown",
   "id": "999a89da-e5a7-4780-8055-750422a05c1a",
   "metadata": {},
   "source": [
    "<h3 style='color:black;'>Applications.</h3>"
   ]
  },
  {
   "cell_type": "markdown",
   "id": "edc00a19-dc04-449f-b657-a099a3cf6189",
   "metadata": {},
   "source": [
    "Customer Segmentation: Grouping customers based on demographics, purchasing behavior, etc., for targeted marketing. \n",
    "\n",
    "Image Segmentation: Dividing an image into regions based on color or other features. \n",
    "\n",
    "Anomaly Detection: Identifying outliers or unusual data points. \n",
    "\n",
    "Document Clustering: Grouping similar documents together for organization and analysis. \n",
    "\n",
    "Recommendation Systems: Suggesting items to users based on their cluster membership. "
   ]
  },
  {
   "cell_type": "markdown",
   "id": "d3b87a13-5b23-48eb-95c3-23e8149b9474",
   "metadata": {},
   "source": [
    "<h3 style='color:black;'>Advantages</h3>"
   ]
  },
  {
   "cell_type": "markdown",
   "id": "0ef979c2-a098-45d0-a430-64db365c8746",
   "metadata": {},
   "source": [
    "Simplicity and Speed: Relatively easy to understand and implement, making it computationally efficient.\n",
    "    \n",
    "Scalability: Can handle large datasets effectively"
   ]
  },
  {
   "cell_type": "markdown",
   "id": "8cb2bfef-a8e4-48e7-8740-542d5114d667",
   "metadata": {},
   "source": [
    "<h3 style='color:black;'>Disadvantages:</h3>"
   ]
  },
  {
   "cell_type": "markdown",
   "id": "2301e05b-5bd2-4f29-8926-7112edf86fb9",
   "metadata": {},
   "source": [
    "Sensitivity to Initialization: The algorithm's performance can be affected by the initial placement of centroids.\n",
    "\n",
    "Difficulty in Determining k: Choosing the optimal number of clusters can be challenging. \n",
    "    \n",
    "Sensitive to Outliers: Outliers can significantly impact the position of centroids. \n",
    "\n",
    "Limited to Linear Boundaries: K-means assumes spherical clusters and may not perform well with non-linear data. "
   ]
  }
 ],
 "metadata": {
  "kernelspec": {
   "display_name": "Python 3 (ipykernel)",
   "language": "python",
   "name": "python3"
  },
  "language_info": {
   "codemirror_mode": {
    "name": "ipython",
    "version": 3
   },
   "file_extension": ".py",
   "mimetype": "text/x-python",
   "name": "python",
   "nbconvert_exporter": "python",
   "pygments_lexer": "ipython3",
   "version": "3.13.2"
  }
 },
 "nbformat": 4,
 "nbformat_minor": 5
}
