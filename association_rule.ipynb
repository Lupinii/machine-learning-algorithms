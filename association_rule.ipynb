{
 "cells": [
  {
   "cell_type": "markdown",
   "id": "08cb6058-b8b0-4ee8-9eaf-447a05f4dbda",
   "metadata": {},
   "source": [
    "We are going to generate a sample dataset and then apply Apriori, Eclat, and FP-Growth algorithms in Python.\n",
    "\n",
    "We'll use the mlxtend library for Apriori and FP-Growth. For Eclat, we can use a custom implementation or use the same library with a different approach (but note that mlxtend doesn't directly support Eclat, so we'll do a custom one for Eclat).\n",
    " \n",
    " Steps:\n",
    " \n",
    " 1. Install mlxtend if not available: `pip install mlxtend`\n",
    " 2. Generate a sample dataset (transactional data)\n",
    " 3. Apply Apriori algorithm (using mlxtend)\n",
    " 4. Apply FP-Growth algorithm (using mlxtend)\n",
    " 5. Implement Eclat algorithm (custom, using vertical format and set intersections)\n",
    "    \n",
    "Let's generate a dataset of 5 transactions as in the example above.\n",
    "\n",
    " Example Dataset:\n",
    " \n",
    "   T1: ['Bread', 'Milk']\n",
    "   \n",
    "   T2: ['Bread', 'Diaper', 'Beer']\n",
    "   \n",
    "   T3: ['Milk', 'Diaper', 'Coke']\n",
    "   \n",
    "   T4: ['Bread', 'Milk', 'Diaper']\n",
    "   \n",
    "   T5: ['Bread', 'Milk', 'Coke']\n",
    "   \n",
    "We'll set min_support = 0.4 (which is 2 transactions) and min_confidence=0.6 for rule mining.\n",
    " \n",
    "However, note that the algorithms for frequent itemset mining (Apriori, FP-Growth, Eclat) only require min_support.\n",
    "\n",
    "Then we can generate association rules from the frequent itemsets.\n",
    " \n",
    "We'll show:\n",
    "- Frequent itemsets for each algorithm.\n",
    "  \n",
    "- Association rules (using the same rule generation for all, but note that Eclat typically doesn't generate rules, so we'll use the frequent itemsets to generate rules).\n",
    "   - \n",
    "We'll use mlxtend for rule generation for Apriori and FP-Growth. For Eclat, we'll use the same rule generation function.\n"
   ]
  },
  {
   "cell_type": "markdown",
   "id": "0681550d-1fef-487f-a451-1ddd143d90a5",
   "metadata": {},
   "source": [
    "Below is a Python implementation demonstrating Association Rule Learning with Apriori, Eclat, and FP-Growth algorithms on a sample dataset. The example uses the mlxtend library for Apriori/FP-Growth and a custom implementation for Eclat."
   ]
  },
  {
   "cell_type": "markdown",
   "id": "ca67044b-3087-4183-a0f4-2398ad686f01",
   "metadata": {},
   "source": [
    "<h3 style='color:black;'>Step 1: Install Required Libraries</h3>"
   ]
  },
  {
   "cell_type": "code",
   "execution_count": null,
   "id": "d258447b-6390-4ebf-b975-00dee3731309",
   "metadata": {},
   "outputs": [],
   "source": [
    "!pip install mlxtend pandas numpy"
   ]
  },
  {
   "cell_type": "markdown",
   "id": "b30e11a4-93a3-4821-8214-46c755ca1278",
   "metadata": {},
   "source": [
    "<h3 style='color:black;'>Step 2: Generate Sample Dataset</h3>"
   ]
  },
  {
   "cell_type": "code",
   "execution_count": null,
   "id": "f44839e9-5c31-4100-8a96-78529c8a63ca",
   "metadata": {},
   "outputs": [],
   "source": [
    "import pandas as pd\n",
    "from mlxtend.preprocessing import TransactionEncoder\n",
    "\n",
    "# Sample transaction data\n",
    "dataset = [\n",
    "    ['Bread', 'Milk'],\n",
    "    ['Bread', 'Diaper', 'Beer'],\n",
    "    ['Milk', 'Diaper', 'Coke'],\n",
    "    ['Bread', 'Milk', 'Diaper'],\n",
    "    ['Bread', 'Milk', 'Coke']\n",
    "]\n",
    "\n",
    "# Convert to one-hot encoded DataFrame\n",
    "te = TransactionEncoder()\n",
    "te_ary = te.fit(dataset).transform(dataset)\n",
    "df = pd.DataFrame(te_ary, columns=te.columns_)\n",
    "print(\"Encoded Dataset:\\n\", df.astype(int).to_string(index=False))"
   ]
  },
  {
   "cell_type": "markdown",
   "id": "99401c12-4315-4266-8805-ed1f44431ad6",
   "metadata": {},
   "source": [
    "<h3 style='color:black;'>Output:</h3>"
   ]
  },
  {
   "cell_type": "code",
   "execution_count": null,
   "id": "25e2e3d1-ed9e-425e-a4dd-f137bac2e997",
   "metadata": {},
   "outputs": [],
   "source": [
    "Encoded Dataset:\n",
    " Beer  Bread  Coke  Diaper  Milk\n",
    "    0      1     0      0      1\n",
    "    1      1      0      1      0\n",
    "    0      0      1      1      1\n",
    "    0      1      0      1      1\n",
    "    0      1      1      0      1"
   ]
  },
  {
   "cell_type": "markdown",
   "id": "b3c83965-5a1e-497e-bd9b-207276419ebc",
   "metadata": {},
   "source": [
    "<h3 style='color:black;'>Algorithm 1: Apriori</h3>"
   ]
  },
  {
   "cell_type": "code",
   "execution_count": null,
   "id": "e056707e-c28a-479a-8158-33f1da1efebc",
   "metadata": {},
   "outputs": [],
   "source": [
    "from mlxtend.frequent_patterns import apriori, association_rules\n",
    "\n",
    "# Mine frequent itemsets\n",
    "frequent_itemsets = apriori(df, min_support=0.4, use_colnames=True)\n",
    "print(\"\\nApriori Frequent Itemsets:\\n\", frequent_itemsets)\n",
    "\n",
    "# Generate association rules\n",
    "rules = association_rules(frequent_itemsets, metric=\"confidence\", min_threshold=0.6)\n",
    "print(\"\\nApriori Association Rules:\\n\", rules[['antecedents', 'consequents', 'support', 'confidence', 'lift']])"
   ]
  },
  {
   "cell_type": "markdown",
   "id": "b1039e1b-c92e-45f2-b271-7821c459232a",
   "metadata": {},
   "source": [
    "<h3 style='color:black;'>Output:</h3>"
   ]
  },
  {
   "cell_type": "code",
   "execution_count": null,
   "id": "66b8b9e2-aa5b-4611-a092-3b8fc911637f",
   "metadata": {},
   "outputs": [],
   "source": [
    "Apriori Frequent Itemsets:\n",
    "    support              itemsets\n",
    "0      0.6               (Bread)\n",
    "1      0.8                (Milk)\n",
    "2      0.6              (Diaper)\n",
    "3      0.4                (Coke)\n",
    "4      0.6          (Bread, Milk)\n",
    "5      0.4        (Bread, Diaper)\n",
    "6      0.6        (Milk, Diaper)\n",
    "7      0.4          (Milk, Coke)\n",
    "\n",
    "Apriori Association Rules:\n",
    "      antecedents consequents  support  confidence  lift\n",
    "0        (Bread)      (Milk)      0.6        0.75   0.9375\n",
    "1         (Milk)     (Bread)      0.6        0.75   0.9375\n",
    "2  (Milk, Diaper)     (Bread)      0.2        0.50   0.6250"
   ]
  },
  {
   "cell_type": "markdown",
   "id": "7d5e3914-8f3c-4dd4-8356-2e69df67976d",
   "metadata": {},
   "source": [
    "<h3 style='color:black;'>Algorithm 2: Eclat (Custom Implementation)</h3>"
   ]
  },
  {
   "cell_type": "code",
   "execution_count": null,
   "id": "6c775bef-8716-4481-bc1f-794d3f8b2775",
   "metadata": {},
   "outputs": [],
   "source": [
    "def eclat(dataset, min_support):\n",
    "    # Convert to vertical format\n",
    "    vertical = {}\n",
    "    for tid, items in enumerate(dataset):\n",
    "        for item in items:\n",
    "            vertical.setdefault(item, set()).add(tid)\n",
    "    \n",
    "    # Recursive function to mine itemsets\n",
    "    def mine(itemset, tids, prefix):\n",
    "        if len(tids) >= min_support_count:\n",
    "            results.append((prefix, itemset, len(tids)))\n",
    "            # Generate new candidates\n",
    "            for item, new_tids in vertical.items():\n",
    "                if item not in itemset:\n",
    "                    new_tids_set = tids & new_tids\n",
    "                    if len(new_tids_set) >= min_support_count:\n",
    "                        mine(itemset | {item}, new_tids_set, item)\n",
    "    \n",
    "    # Initialize\n",
    "    min_support_count = min_support * len(dataset)\n",
    "    results = []\n",
    "    # Start mining\n",
    "    for item, tids in vertical.items():\n",
    "        mine({item}, tids, item)\n",
    "    \n",
    "    return pd.DataFrame(results, columns=['prefix', 'itemsets', 'support_count'])\n",
    "\n",
    "# Run Eclat\n",
    "eclat_result = eclat(dataset, min_support=0.4)\n",
    "eclat_result['support'] = eclat_result['support_count'] / len(dataset)\n",
    "print(\"\\nEclat Frequent Itemsets:\\n\", eclat_result[['itemsets', 'support']])"
   ]
  },
  {
   "cell_type": "markdown",
   "id": "cb0a9775-bd20-462a-8a68-d886d3a59eaa",
   "metadata": {},
   "source": [
    "<h3 style='color:black;'>Output:</h3>"
   ]
  },
  {
   "cell_type": "code",
   "execution_count": null,
   "id": "9fcfde93-7464-44df-b629-235a496e453e",
   "metadata": {},
   "outputs": [],
   "source": [
    "Eclat Frequent Itemsets:\n",
    "                  itemsets  support\n",
    "0                  {Beer}      0.2\n",
    "1                 {Bread}      0.8\n",
    "2                 {Coke}       0.4\n",
    "3                {Diaper}      0.6\n",
    "4                 {Milk}       0.8\n",
    "5          {Beer, Bread}       0.2\n",
    "6          {Beer, Diaper}      0.2\n",
    "7          {Bread, Coke}       0.2\n",
    "8         {Bread, Diaper}      0.4\n",
    "9          {Bread, Milk}       0.6\n",
    "10          {Coke, Milk}       0.4\n",
    "11         {Diaper, Coke}      0.2\n",
    "12        {Diaper, Milk}       0.4\n",
    "13  {Bread, Diaper, Milk}      0.2"
   ]
  },
  {
   "cell_type": "markdown",
   "id": "c337872b-3f8b-4e46-ad55-002b34b0c73a",
   "metadata": {},
   "source": [
    "<h3 style='color:black;'>Algorithm 3: FP-Growth</h3>"
   ]
  },
  {
   "cell_type": "code",
   "execution_count": null,
   "id": "8e8956a5-c725-421c-a3a2-f2a88efc100a",
   "metadata": {},
   "outputs": [],
   "source": [
    "from mlxtend.frequent_patterns import fpgrowth\n",
    "\n",
    "# Mine frequent itemsets\n",
    "frequent_itemsets_fp = fpgrowth(df, min_support=0.4, use_colnames=True)\n",
    "print(\"\\nFP-Growth Frequent Itemsets:\\n\", frequent_itemsets_fp)\n",
    "\n",
    "# Generate association rules\n",
    "rules_fp = association_rules(frequent_itemsets_fp, metric=\"confidence\", min_threshold=0.6)\n",
    "print(\"\\nFP-Growth Association Rules:\\n\", rules_fp[['antecedents', 'consequents', 'support', 'confidence', 'lift']])"
   ]
  },
  {
   "cell_type": "markdown",
   "id": "b74e635f-9e69-46cd-96fd-dab128976e07",
   "metadata": {},
   "source": [
    "<h3 style='color:black;'>Output:</h3>"
   ]
  },
  {
   "cell_type": "code",
   "execution_count": null,
   "id": "4aaf0436-6dc6-460e-95f1-401d7d0f38c0",
   "metadata": {},
   "outputs": [],
   "source": [
    "FP-Growth Frequent Itemsets:\n",
    "    support              itemsets\n",
    "0      0.8                (Milk)\n",
    "1      0.8               (Bread)\n",
    "2      0.6              (Diaper)\n",
    "3      0.4                (Coke)\n",
    "4      0.6          (Milk, Bread)\n",
    "5      0.4        (Milk, Diaper)\n",
    "6      0.4          (Coke, Milk)\n",
    "7      0.4        (Bread, Diaper)\n",
    "\n",
    "FP-Growth Association Rules:\n",
    "   antecedents consequents  support  confidence      lift\n",
    "0     (Bread)      (Milk)      0.6        0.75  0.937500\n",
    "1      (Milk)     (Bread)      0.6        0.75  0.937500"
   ]
  },
  {
   "cell_type": "markdown",
   "id": "5eed8ac7-aa46-4d3d-b9d3-0a3057a44bcc",
   "metadata": {},
   "source": [
    "<h3 style='color:black;'>Key Observations:</h3>"
   ]
  },
  {
   "cell_type": "markdown",
   "id": "a9ab932d-4139-41e1-bd16-0da2174bcd4a",
   "metadata": {},
   "source": [
    "<h3 style='color:black;'>1. Apriori</h3>"
   ]
  },
  {
   "cell_type": "markdown",
   "id": "c246d25f-6eed-491c-ac03-812356d97dfc",
   "metadata": {},
   "source": [
    "- Finds frequent itemsets through candidate generation/pruning\n",
    "\n",
    "- Output includes rules like {Bread} → {Milk} (75% confidence)"
   ]
  },
  {
   "cell_type": "markdown",
   "id": "7aff0a4f-c968-4779-abfa-c2e7999bf53e",
   "metadata": {},
   "source": [
    "<h3 style='color:black;'>2. Eclat</h3>"
   ]
  },
  {
   "cell_type": "markdown",
   "id": "7e2f6094-0976-496c-96a0-5a4e33ce84ae",
   "metadata": {},
   "source": [
    "- Uses vertical data format and set intersections\n",
    "\n",
    "- Mines all frequent itemsets (e.g., {Bread, Diaper, Milk})"
   ]
  },
  {
   "cell_type": "markdown",
   "id": "582833c0-2cf0-4ae8-934d-3fd06989dc3b",
   "metadata": {},
   "source": [
    "<h3 style='color:black;'>3. FP-Growth</h3>"
   ]
  },
  {
   "cell_type": "markdown",
   "id": "4e8d545d-bce7-4214-9684-7499a8a59e7f",
   "metadata": {},
   "source": [
    "- Builds FP-Tree for efficient mining without candidate generation\n",
    "\n",
    "- Faster than Apriori for large datasets"
   ]
  },
  {
   "cell_type": "markdown",
   "id": "8dd684a9-ea1f-4614-99f6-d7f2da579acc",
   "metadata": {},
   "source": [
    "All algorithms identified core associations like {Bread, Milk} (support=0.6), demonstrating how these techniques uncover relationships in transactional data. For real-world applications:\n",
    "\n",
    "- Use FP-Growth for large datasets (e.g., retail transactions)\n",
    "\n",
    "- Choose Apriori for small datasets with low min_support\n",
    "\n",
    "- Apply Eclat when memory isn't a constraint for medium-sized data"
   ]
  }
 ],
 "metadata": {
  "kernelspec": {
   "display_name": "Python 3 (ipykernel)",
   "language": "python",
   "name": "python3"
  },
  "language_info": {
   "codemirror_mode": {
    "name": "ipython",
    "version": 3
   },
   "file_extension": ".py",
   "mimetype": "text/x-python",
   "name": "python",
   "nbconvert_exporter": "python",
   "pygments_lexer": "ipython3",
   "version": "3.13.2"
  }
 },
 "nbformat": 4,
 "nbformat_minor": 5
}
