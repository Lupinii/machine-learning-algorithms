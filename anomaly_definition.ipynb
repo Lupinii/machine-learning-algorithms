{
 "cells": [
  {
   "cell_type": "markdown",
   "id": "3107314f-c217-4879-9cea-2337944ee6a0",
   "metadata": {},
   "source": [
    "<h3 style='color:green;'>Anomaly Detection.</h3>"
   ]
  },
  {
   "cell_type": "markdown",
   "id": "dd0d8fb7-10b8-4dec-8763-d4acb40e03bc",
   "metadata": {},
   "source": [
    "Anomalies are data points that stand out amongst other data points in the dataset and do not confirm the normal behavior in the data.\n",
    "\n",
    "These data points or observations deviate from the datasets normal behavioral patterns."
   ]
  },
  {
   "cell_type": "markdown",
   "id": "cec5307b-3d00-4d79-b908-39896ad287f4",
   "metadata": {},
   "source": [
    "<h3 style='color:black;'>Types of Anomaly</h3>"
   ]
  },
  {
   "cell_type": "markdown",
   "id": "1bc703b6-8f9f-487f-995b-61d7cce4ac02",
   "metadata": {},
   "source": [
    "1. Point Anomalies-are individual data instances that deviate significantly fro the norm on their own.\n",
    "\n",
    "2. Contextual Anomalies-are instances that are considered anomalous only within a specific context or condition.\n",
    "\n",
    "3. Collective Anomalies-involve a group of data points that exhibit anomalous behavior wheen considered together, even if the individual points seem normal."
   ]
  },
  {
   "cell_type": "markdown",
   "id": "04c32741-dc00-4540-9c93-ec739ed76a35",
   "metadata": {},
   "source": [
    "<h3 style='color:black;'>Algorithms</h3>"
   ]
  },
  {
   "cell_type": "markdown",
   "id": "312c2b6a-e1a5-49fc-a4f1-6072cc8f4784",
   "metadata": {},
   "source": [
    "<h3>Mean Absolute Deviation (MAD)</h3>"
   ]
  },
  {
   "cell_type": "markdown",
   "id": "46c2f323-be54-4817-ba6a-70acb1d2dff3",
   "metadata": {},
   "source": [
    "When the data is normally distributed, we can reasonably concude that points at each tail are outliers.\n",
    "\n",
    "The presence of outliers affect the mean, and therefore the Z-score.\n",
    "\n",
    "Robust Z-score only works if the data is close to a normal distribution."
   ]
  },
  {
   "cell_type": "markdown",
   "id": "c7c54fee-b51b-448d-9590-bce8eaa3654e",
   "metadata": {},
   "source": [
    "<h3 style='color:black;'>Isolation Forest</h3>"
   ]
  },
  {
   "cell_type": "markdown",
   "id": "bd6fc295-6c92-4fa1-819c-d7774f657059",
   "metadata": {},
   "source": [
    "Isolation forest is unsupervised anomaly detection lgorithm that uses a random forest algorithm(decision trees) under the hood to detect outliers in the dataset.\n",
    "\n",
    "The algorithm tries to split or divide the data points such that each observation gets isolated from the others."
   ]
  },
  {
   "cell_type": "markdown",
   "id": "6cab586b-d7dd-4f3e-8c1e-d2f27728e312",
   "metadata": {},
   "source": [
    "<h3 style='color:black;'>DBScan Clustering</h3>"
   ]
  },
  {
   "cell_type": "markdown",
   "id": "05742362-06ca-4eca-8b0e-13431501bb78",
   "metadata": {},
   "source": [
    "DBScan is a density-based and unsupervised machine learning algorithm. It takes muliti-dimensional data as inputs and clusters them according to the nodel parameters --e,g epsilon and minimum samples.\n",
    "\n",
    "Epsilon is the radius of the circle to be created around each data point to check the density.\n",
    "\n",
    "Minpoints is the minimum number of points required inside that circle for that data point to be classified as a Core point.\n",
    "                                                                     \n",
    "Based on these parameters, the algorithm determines whetehr certain values in the dataset are outliers or not."
   ]
  },
  {
   "cell_type": "markdown",
   "id": "14d81417-efaa-4086-ab69-f0788368c2d8",
   "metadata": {},
   "source": [
    "<h3 style='color:black;'>Primary Goal of anomaly detection.</h3>"
   ]
  },
  {
   "cell_type": "markdown",
   "id": "2907b41c-d7ab-452e-896b-c3109df1ac40",
   "metadata": {},
   "source": [
    "Identifying outliers or unsual patterns in data.\n",
    "\n",
    "Normalizing data for better visualization.\n",
    "\n",
    "Increasing the complexity of machine learning models\n",
    "\n",
    "Generating synthetic data points."
   ]
  },
  {
   "cell_type": "markdown",
   "id": "d8f205ea-3299-416b-8b80-fd85b98a51fa",
   "metadata": {},
   "source": [
    "<h3 style='color:black;'>Local Outlier Factor</h3>"
   ]
  },
  {
   "cell_type": "markdown",
   "id": "672e3772-9b9b-4d4c-a2c1-a4b6810ce56e",
   "metadata": {},
   "source": [
    "The Local Outlier Factor(LOF) is a machine learning algorithm used for anomaly detection, specifically focusing on the identification of local anomalies within a dataset.\n",
    "\n",
    "Unlike global anomalies that deviate from the entire dataset, local anomalies are points that deviate from their local neighborhood.\n",
    "\n",
    "The LOF algorithm is particularly useful when you want to detect anomalies that might be normal within a global context but are outliers witin their local vicinity."
   ]
  }
 ],
 "metadata": {
  "kernelspec": {
   "display_name": "Python 3 (ipykernel)",
   "language": "python",
   "name": "python3"
  },
  "language_info": {
   "codemirror_mode": {
    "name": "ipython",
    "version": 3
   },
   "file_extension": ".py",
   "mimetype": "text/x-python",
   "name": "python",
   "nbconvert_exporter": "python",
   "pygments_lexer": "ipython3",
   "version": "3.13.2"
  }
 },
 "nbformat": 4,
 "nbformat_minor": 5
}
